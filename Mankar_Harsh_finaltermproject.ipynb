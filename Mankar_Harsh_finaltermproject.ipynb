{
 "cells": [
  {
   "cell_type": "code",
   "execution_count": 4,
   "id": "62307539-44dd-4346-89c3-246cba0648c8",
   "metadata": {},
   "outputs": [],
   "source": [
    "\n",
    "import pandas as pd\n",
    "import numpy as np\n",
    "from sklearn.model_selection import train_test_split\n",
    "from sklearn.tree import DecisionTreeClassifier\n",
    "from sklearn.ensemble import RandomForestClassifier\n",
    "from sklearn.metrics import accuracy_score, confusion_matrix ,roc_auc_score, brier_score_loss\n",
    "from sklearn.metrics import classification_report\n",
    "from sklearn.metrics import mean_squared_error\n",
    "import time\n",
    "from sklearn.model_selection import cross_val_predict,KFold\n",
    "import tensorflow as tf"
   ]
  },
  {
   "cell_type": "code",
   "execution_count": 6,
   "id": "c1ea3c3c-1c77-45c3-999e-765f46b47ce8",
   "metadata": {},
   "outputs": [],
   "source": [
    "from ucimlrepo import fetch_ucirepo \n",
    "  \n",
    "# fetch dataset \n",
    "adult = fetch_ucirepo(id=2) \n",
    "  \n",
    "# data (as pandas dataframes) \n",
    "X = adult.data.features \n",
    "y = adult.data.targets \n",
    "df = pd.concat([X, y], axis=1)"
   ]
  },
  {
   "cell_type": "code",
   "execution_count": 7,
   "id": "87795d03-2fcf-4f49-9261-3ee2c8c45f16",
   "metadata": {},
   "outputs": [
    {
     "data": {
      "text/html": [
       "<div>\n",
       "<style scoped>\n",
       "    .dataframe tbody tr th:only-of-type {\n",
       "        vertical-align: middle;\n",
       "    }\n",
       "\n",
       "    .dataframe tbody tr th {\n",
       "        vertical-align: top;\n",
       "    }\n",
       "\n",
       "    .dataframe thead th {\n",
       "        text-align: right;\n",
       "    }\n",
       "</style>\n",
       "<table border=\"1\" class=\"dataframe\">\n",
       "  <thead>\n",
       "    <tr style=\"text-align: right;\">\n",
       "      <th></th>\n",
       "      <th>age</th>\n",
       "      <th>workclass</th>\n",
       "      <th>fnlwgt</th>\n",
       "      <th>education</th>\n",
       "      <th>education-num</th>\n",
       "      <th>marital-status</th>\n",
       "      <th>occupation</th>\n",
       "      <th>relationship</th>\n",
       "      <th>race</th>\n",
       "      <th>sex</th>\n",
       "      <th>capital-gain</th>\n",
       "      <th>capital-loss</th>\n",
       "      <th>hours-per-week</th>\n",
       "      <th>native-country</th>\n",
       "      <th>income</th>\n",
       "    </tr>\n",
       "  </thead>\n",
       "  <tbody>\n",
       "    <tr>\n",
       "      <th>0</th>\n",
       "      <td>39</td>\n",
       "      <td>State-gov</td>\n",
       "      <td>77516</td>\n",
       "      <td>Bachelors</td>\n",
       "      <td>13</td>\n",
       "      <td>Never-married</td>\n",
       "      <td>Adm-clerical</td>\n",
       "      <td>Not-in-family</td>\n",
       "      <td>White</td>\n",
       "      <td>Male</td>\n",
       "      <td>2174</td>\n",
       "      <td>0</td>\n",
       "      <td>40</td>\n",
       "      <td>United-States</td>\n",
       "      <td>&lt;=50K</td>\n",
       "    </tr>\n",
       "    <tr>\n",
       "      <th>1</th>\n",
       "      <td>50</td>\n",
       "      <td>Self-emp-not-inc</td>\n",
       "      <td>83311</td>\n",
       "      <td>Bachelors</td>\n",
       "      <td>13</td>\n",
       "      <td>Married-civ-spouse</td>\n",
       "      <td>Exec-managerial</td>\n",
       "      <td>Husband</td>\n",
       "      <td>White</td>\n",
       "      <td>Male</td>\n",
       "      <td>0</td>\n",
       "      <td>0</td>\n",
       "      <td>13</td>\n",
       "      <td>United-States</td>\n",
       "      <td>&lt;=50K</td>\n",
       "    </tr>\n",
       "    <tr>\n",
       "      <th>2</th>\n",
       "      <td>38</td>\n",
       "      <td>Private</td>\n",
       "      <td>215646</td>\n",
       "      <td>HS-grad</td>\n",
       "      <td>9</td>\n",
       "      <td>Divorced</td>\n",
       "      <td>Handlers-cleaners</td>\n",
       "      <td>Not-in-family</td>\n",
       "      <td>White</td>\n",
       "      <td>Male</td>\n",
       "      <td>0</td>\n",
       "      <td>0</td>\n",
       "      <td>40</td>\n",
       "      <td>United-States</td>\n",
       "      <td>&lt;=50K</td>\n",
       "    </tr>\n",
       "    <tr>\n",
       "      <th>3</th>\n",
       "      <td>53</td>\n",
       "      <td>Private</td>\n",
       "      <td>234721</td>\n",
       "      <td>11th</td>\n",
       "      <td>7</td>\n",
       "      <td>Married-civ-spouse</td>\n",
       "      <td>Handlers-cleaners</td>\n",
       "      <td>Husband</td>\n",
       "      <td>Black</td>\n",
       "      <td>Male</td>\n",
       "      <td>0</td>\n",
       "      <td>0</td>\n",
       "      <td>40</td>\n",
       "      <td>United-States</td>\n",
       "      <td>&lt;=50K</td>\n",
       "    </tr>\n",
       "    <tr>\n",
       "      <th>4</th>\n",
       "      <td>28</td>\n",
       "      <td>Private</td>\n",
       "      <td>338409</td>\n",
       "      <td>Bachelors</td>\n",
       "      <td>13</td>\n",
       "      <td>Married-civ-spouse</td>\n",
       "      <td>Prof-specialty</td>\n",
       "      <td>Wife</td>\n",
       "      <td>Black</td>\n",
       "      <td>Female</td>\n",
       "      <td>0</td>\n",
       "      <td>0</td>\n",
       "      <td>40</td>\n",
       "      <td>Cuba</td>\n",
       "      <td>&lt;=50K</td>\n",
       "    </tr>\n",
       "  </tbody>\n",
       "</table>\n",
       "</div>"
      ],
      "text/plain": [
       "   age         workclass  fnlwgt  education  education-num  \\\n",
       "0   39         State-gov   77516  Bachelors             13   \n",
       "1   50  Self-emp-not-inc   83311  Bachelors             13   \n",
       "2   38           Private  215646    HS-grad              9   \n",
       "3   53           Private  234721       11th              7   \n",
       "4   28           Private  338409  Bachelors             13   \n",
       "\n",
       "       marital-status         occupation   relationship   race     sex  \\\n",
       "0       Never-married       Adm-clerical  Not-in-family  White    Male   \n",
       "1  Married-civ-spouse    Exec-managerial        Husband  White    Male   \n",
       "2            Divorced  Handlers-cleaners  Not-in-family  White    Male   \n",
       "3  Married-civ-spouse  Handlers-cleaners        Husband  Black    Male   \n",
       "4  Married-civ-spouse     Prof-specialty           Wife  Black  Female   \n",
       "\n",
       "   capital-gain  capital-loss  hours-per-week native-country income  \n",
       "0          2174             0              40  United-States  <=50K  \n",
       "1             0             0              13  United-States  <=50K  \n",
       "2             0             0              40  United-States  <=50K  \n",
       "3             0             0              40  United-States  <=50K  \n",
       "4             0             0              40           Cuba  <=50K  "
      ]
     },
     "execution_count": 7,
     "metadata": {},
     "output_type": "execute_result"
    }
   ],
   "source": [
    "df.head()"
   ]
  },
  {
   "cell_type": "code",
   "execution_count": 8,
   "id": "d61a008e-7de9-4d5c-a739-92f4ada1bc7d",
   "metadata": {},
   "outputs": [
    {
     "data": {
      "text/plain": [
       "0         <=50K\n",
       "1         <=50K\n",
       "2         <=50K\n",
       "3         <=50K\n",
       "4         <=50K\n",
       "          ...  \n",
       "48837    <=50K.\n",
       "48838    <=50K.\n",
       "48839    <=50K.\n",
       "48840    <=50K.\n",
       "48841     >50K.\n",
       "Name: income, Length: 48842, dtype: object"
      ]
     },
     "execution_count": 8,
     "metadata": {},
     "output_type": "execute_result"
    }
   ],
   "source": [
    "target_values = df.income\n",
    "target_values"
   ]
  },
  {
   "cell_type": "code",
   "execution_count": 9,
   "id": "8de08a71-d875-479a-a805-f44aaef910fc",
   "metadata": {},
   "outputs": [
    {
     "name": "stdout",
     "output_type": "stream",
     "text": [
      "0        0\n",
      "1        0\n",
      "2        0\n",
      "3        0\n",
      "4        0\n",
      "        ..\n",
      "48837    0\n",
      "48838    0\n",
      "48839    0\n",
      "48840    0\n",
      "48841    1\n",
      "Name: income, Length: 48842, dtype: int64\n"
     ]
    }
   ],
   "source": [
    "binary_target_values = df['income'].map({'>50K': 1, '>50K.': 1, '<=50K': 0 , '<=50K.' : 0})\n",
    "\n",
    "# Display the resulting binary target values\n",
    "print(binary_target_values)\n"
   ]
  },
  {
   "cell_type": "code",
   "execution_count": 10,
   "id": "796dec89-740a-4dfc-94b3-71e3d0a7ae72",
   "metadata": {},
   "outputs": [],
   "source": [
    "census_data = df.drop('income',axis=1)"
   ]
  },
  {
   "cell_type": "code",
   "execution_count": 11,
   "id": "48aec0c2-7dc9-48ae-a944-3594629e0fab",
   "metadata": {},
   "outputs": [],
   "source": [
    "from sklearn.preprocessing import OneHotEncoder\n",
    "from scipy.sparse import csr_matrix\n",
    "\n",
    "categorical_cols = census_data.select_dtypes(include=['object']).columns.tolist()\n",
    "\n",
    "# Create an instance of OneHotEncoder with sparse=True\n",
    "encoder = OneHotEncoder(sparse_output=True)\n",
    "\n",
    "# Fit the encoder on the categorical columns and transform the data\n",
    "encoded_data = encoder.fit_transform(census_data[categorical_cols])\n",
    "\n",
    "# Convert the encoded data to a pandas DataFrame\n",
    "encoded_df = pd.DataFrame.sparse.from_spmatrix(encoded_data, columns=encoder.get_feature_names_out())\n",
    "\n"
   ]
  },
  {
   "cell_type": "code",
   "execution_count": 12,
   "id": "e7af984e-212e-464f-ba25-db0f9154ef60",
   "metadata": {},
   "outputs": [],
   "source": [
    "X_train, X_test, Y_train, Y_test = train_test_split(encoded_df, binary_target_values, train_size=0.80, random_state=42)"
   ]
  },
  {
   "cell_type": "code",
   "execution_count": 13,
   "id": "c4ac7fbd-256d-402b-8ea1-e506eac9ed29",
   "metadata": {},
   "outputs": [],
   "source": [
    "def calculate_performance_metrics(y_true, y_pred):\n",
    "    # Calculate confusion matrix\n",
    "    conf_matrix = confusion_matrix(y_true, y_pred)\n",
    "    \n",
    "    # Extract confusion matrix components\n",
    "    TP = conf_matrix[1, 1]\n",
    "    TN = conf_matrix[0, 0]\n",
    "    FP = conf_matrix[0, 1]\n",
    "    FN = conf_matrix[1, 0]\n",
    "    \n",
    "    # Calculate total positive and negative samples\n",
    "    P = TP + FN\n",
    "    N = TN + FP\n",
    "    \n",
    "    # Calculate True Positive Rate (Sensitivity)\n",
    "    TPR = TP / P\n",
    "    # Calculate True Negative Rate (Specificity)\n",
    "    TNR = TN / N\n",
    "    # Calculate False Positive Rate\n",
    "    FPR = FP / N\n",
    "    # Calculate False Negative Rate\n",
    "    FNR = FN / P\n",
    "    \n",
    "    # Calculate Recall (Sensitivity)\n",
    "    recall = TP / P\n",
    "    # Calculate Precision\n",
    "    precision = TP / (TP + FP)\n",
    "    # Calculate F1 Score\n",
    "    f1_score = 2 * (precision * recall) / (precision + recall)\n",
    "    \n",
    "    # Calculate Accuracy\n",
    "    accuracy = (TP + TN) / (P + N)\n",
    "    # Calculate Error Rate\n",
    "    error_rate = (FP + FN) / (P + N)\n",
    "    # Calculate Balanced Accuracy\n",
    "    balanced_accuracy = (TPR + TNR) / 2\n",
    "    # Calculate True Skill Statistics\n",
    "    true_skill_statistics = TP / (TP + FN) - FP / (FP + TN)\n",
    "    # Calculate Heidke Skill Score\n",
    "    heidke_skill_score = (2 * (TP * TN - FP * FN)) / ((TP + FN) * (FN + TN) + (TP + FP) * (FP + TN))\n",
    "    \n",
    "    # Calculate accuracy using the accuracy_score function\n",
    "    acc_by_package = accuracy_score(y_true, y_pred)\n",
    "    # Calculate Brier Score Loss\n",
    "    brier_loss = brier_score_loss(y_true, y_pred)\n",
    "    # Calculate Area Under the ROC Curve (AUC)\n",
    "    auc = roc_auc_score(y_true, y_pred)\n",
    "    return (TP, TN, FP, FN, TPR, TNR, FPR, FNR, recall, precision, f1_score, accuracy, error_rate, balanced_accuracy, true_skill_statistics, heidke_skill_score, acc_by_package, brier_loss, auc)\n",
    "\n"
   ]
  },
  {
   "cell_type": "code",
   "execution_count": 19,
   "id": "531a0eab-527e-4e3d-a5fe-c8fe4e32dea7",
   "metadata": {},
   "outputs": [],
   "source": [
    "num_folds = 10\n",
    "kf = KFold(n_splits=num_folds, shuffle=True, random_state=42) # Define the KFold iterator\n",
    "start = time.time()\n",
    "DT_Model = DecisionTreeClassifier(max_depth=8, min_samples_split=15, min_samples_leaf=7, random_state=42)\n",
    "y_pred_cv_dt = cross_val_predict(DT_Model, X_train, Y_train, cv=kf)\n",
    "performance_metrics_cv = calculate_performance_metrics(Y_train, y_pred_cv_dt)\n"
   ]
  },
  {
   "cell_type": "code",
   "execution_count": 20,
   "id": "a51ab9b3-bbc5-4ed3-939b-483f938812a6",
   "metadata": {},
   "outputs": [
    {
     "name": "stdout",
     "output_type": "stream",
     "text": [
      "Performance Metrics for 10-fold Cross-Validation:\n",
      "True Positives (TP): 4591\n",
      "True Negatives (TN): 27710\n",
      "False Positives (FP): 2031\n",
      "False Negatives (FN): 4741\n",
      "True Positive Rate (TPR): 0.49196313759108445\n",
      "True Negative Rate (TNR): 0.9317104334084261\n",
      "False Positive Rate (FPR): 0.06828956659157392\n",
      "False Negative Rate (FNR): 0.5080368624089155\n",
      "Recall/Sensitivity (r): 0.49196313759108445\n",
      "Precision (pr): 0.6932950770160072\n",
      "F1 Score: 0.5755296477372445\n",
      "Accuracy: 0.8266833875054386\n",
      "Error Rate: 0.17331661249456146\n",
      "Balanced Accuracy: 0.7118367854997553\n",
      "True Skill Statistics (TSS): 0.42367357099951053\n",
      "Heidke Skill Score (HSS): 0.470559829013877\n",
      "Accuracy by Package: 0.8266833875054386\n",
      "Brier Score Loss: 0.17331661249456146\n",
      "ROC AUC Score: 0.7118367854997552\n",
      "Time taken for DT model to genearte the output: 4.674790143966675 seconds\n",
      "\n"
     ]
    }
   ],
   "source": [
    "# Print the performance metrics for cross-validation\n",
    "print(\"Performance Metrics for 10-fold Cross-Validation:\")\n",
    "print(\"True Positives (TP):\", performance_metrics_cv[0])\n",
    "print(\"True Negatives (TN):\", performance_metrics_cv[1])\n",
    "print(\"False Positives (FP):\", performance_metrics_cv[2])\n",
    "print(\"False Negatives (FN):\", performance_metrics_cv[3])\n",
    "print(\"True Positive Rate (TPR):\", performance_metrics_cv[4])\n",
    "print(\"True Negative Rate (TNR):\", performance_metrics_cv[5])\n",
    "print(\"False Positive Rate (FPR):\", performance_metrics_cv[6])\n",
    "print(\"False Negative Rate (FNR):\", performance_metrics_cv[7])\n",
    "print(\"Recall/Sensitivity (r):\", performance_metrics_cv[8])\n",
    "print(\"Precision (pr):\", performance_metrics_cv[9])\n",
    "print(\"F1 Score:\", performance_metrics_cv[10])\n",
    "print(\"Accuracy:\", performance_metrics_cv[11])\n",
    "print(\"Error Rate:\", performance_metrics_cv[12])\n",
    "print(\"Balanced Accuracy:\", performance_metrics_cv[13])\n",
    "print(\"True Skill Statistics (TSS):\", performance_metrics_cv[14])\n",
    "print(\"Heidke Skill Score (HSS):\", performance_metrics_cv[15])\n",
    "print(\"Accuracy by Package:\", performance_metrics_cv[16])\n",
    "print(\"Brier Score Loss:\", performance_metrics_cv[17])\n",
    "print(\"ROC AUC Score:\", performance_metrics_cv[18])\n",
    "#print(f\"Time taken for cross-validation: {total_time_cv} seconds\\n\")\n",
    "end = time.time()\n",
    "total_time = end - start\n",
    "print(f\"Time taken for DT model to genearte the output: {total_time} seconds\\n\")\n"
   ]
  },
  {
   "cell_type": "code",
   "execution_count": 24,
   "id": "a52400b1-4c92-4960-b879-75b05d0155b0",
   "metadata": {},
   "outputs": [
    {
     "name": "stderr",
     "output_type": "stream",
     "text": [
      "[Parallel(n_jobs=1)]: Done  49 tasks      | elapsed:    0.7s\n",
      "[Parallel(n_jobs=1)]: Done  49 tasks      | elapsed:    0.0s\n",
      "[Parallel(n_jobs=1)]: Done  49 tasks      | elapsed:    0.7s\n",
      "[Parallel(n_jobs=1)]: Done  49 tasks      | elapsed:    0.0s\n",
      "[Parallel(n_jobs=1)]: Done  49 tasks      | elapsed:    0.7s\n",
      "[Parallel(n_jobs=1)]: Done  49 tasks      | elapsed:    0.0s\n",
      "[Parallel(n_jobs=1)]: Done  49 tasks      | elapsed:    0.7s\n",
      "[Parallel(n_jobs=1)]: Done  49 tasks      | elapsed:    0.0s\n",
      "[Parallel(n_jobs=1)]: Done  49 tasks      | elapsed:    0.7s\n",
      "[Parallel(n_jobs=1)]: Done  49 tasks      | elapsed:    0.0s\n",
      "[Parallel(n_jobs=1)]: Done  49 tasks      | elapsed:    0.7s\n",
      "[Parallel(n_jobs=1)]: Done  49 tasks      | elapsed:    0.0s\n",
      "[Parallel(n_jobs=1)]: Done  49 tasks      | elapsed:    0.7s\n",
      "[Parallel(n_jobs=1)]: Done  49 tasks      | elapsed:    0.0s\n",
      "[Parallel(n_jobs=1)]: Done  49 tasks      | elapsed:    0.7s\n",
      "[Parallel(n_jobs=1)]: Done  49 tasks      | elapsed:    0.0s\n",
      "[Parallel(n_jobs=1)]: Done  49 tasks      | elapsed:    0.7s\n",
      "[Parallel(n_jobs=1)]: Done  49 tasks      | elapsed:    0.0s\n",
      "[Parallel(n_jobs=1)]: Done  49 tasks      | elapsed:    0.7s\n"
     ]
    },
    {
     "name": "stdout",
     "output_type": "stream",
     "text": [
      "Time taken for Random Forest model: 18.89300513267517 seconds\n"
     ]
    },
    {
     "name": "stderr",
     "output_type": "stream",
     "text": [
      "[Parallel(n_jobs=1)]: Done  49 tasks      | elapsed:    0.0s\n"
     ]
    }
   ],
   "source": [
    "start1 = time.time()\n",
    "RNDF_Model = RandomForestClassifier(\n",
    "    n_estimators=100,\n",
    "    max_depth=8, \n",
    "    min_samples_split=15, \n",
    "    min_samples_leaf=7, \n",
    "    random_state=42, \n",
    "    verbose=1\n",
    ")\n",
    "y_pred_cv_rndf = cross_val_predict(RNDF_Model, X_train, Y_train, cv=kf)\n",
    "performance_metrics_cv_rndf = calculate_performance_metrics(Y_train, y_pred_cv_rndf)\n",
    "\n",
    "# End timing\n",
    "end1 = time.time()\n",
    "print(f\"Time taken for Random Forest model: {end1 - start1} seconds\")"
   ]
  },
  {
   "cell_type": "code",
   "execution_count": 25,
   "id": "bc8230b9-fb7a-48a1-9129-7e8af62e1280",
   "metadata": {},
   "outputs": [
    {
     "name": "stdout",
     "output_type": "stream",
     "text": [
      "Performance Metrics for 10-fold Cross-Validation with RandomForestClassifier:\n",
      "True Positives (TP): 4141\n",
      "True Negatives (TN): 28167\n",
      "False Positives (FP): 1574\n",
      "False Negatives (FN): 5191\n",
      "True Positive Rate (TPR): 0.44374196313759107\n",
      "True Negative Rate (TNR): 0.9470764264819609\n",
      "False Positive Rate (FPR): 0.05292357351803907\n",
      "False Negative Rate (FNR): 0.5562580368624089\n",
      "Recall/Sensitivity (r): 0.44374196313759107\n",
      "Precision (pr): 0.7245844269466317\n",
      "F1 Score: 0.5504087193460492\n",
      "Accuracy: 0.8268625393494229\n",
      "Error Rate: 0.1731374606505771\n",
      "Balanced Accuracy: 0.695409194809776\n",
      "True Skill Statistics (TSS): 0.390818389619552\n",
      "Heidke Skill Score (HSS): 0.45076428323872025\n",
      "Accuracy by Package: 0.8268625393494229\n",
      "Brier Score Loss: 0.1731374606505771\n",
      "ROC AUC Score: 0.695409194809776\n",
      "Time taken for RNDF model to genearte the output: 18.90281867980957 seconds\n",
      "\n"
     ]
    }
   ],
   "source": [
    "\n",
    "# Print the performance metrics for cross-validation\n",
    "print(\"Performance Metrics for 10-fold Cross-Validation with RandomForestClassifier:\")\n",
    "print(\"True Positives (TP):\", performance_metrics_cv_rndf[0])\n",
    "print(\"True Negatives (TN):\", performance_metrics_cv_rndf[1])\n",
    "print(\"False Positives (FP):\", performance_metrics_cv_rndf[2])\n",
    "print(\"False Negatives (FN):\", performance_metrics_cv_rndf[3])\n",
    "print(\"True Positive Rate (TPR):\", performance_metrics_cv_rndf[4])\n",
    "print(\"True Negative Rate (TNR):\", performance_metrics_cv_rndf[5])\n",
    "print(\"False Positive Rate (FPR):\", performance_metrics_cv_rndf[6])\n",
    "print(\"False Negative Rate (FNR):\", performance_metrics_cv_rndf[7])\n",
    "print(\"Recall/Sensitivity (r):\", performance_metrics_cv_rndf[8])\n",
    "print(\"Precision (pr):\", performance_metrics_cv_rndf[9])\n",
    "print(\"F1 Score:\", performance_metrics_cv_rndf[10])\n",
    "print(\"Accuracy:\", performance_metrics_cv_rndf[11])\n",
    "print(\"Error Rate:\", performance_metrics_cv_rndf[12])\n",
    "print(\"Balanced Accuracy:\", performance_metrics_cv_rndf[13])\n",
    "print(\"True Skill Statistics (TSS):\", performance_metrics_cv_rndf[14])\n",
    "print(\"Heidke Skill Score (HSS):\", performance_metrics_cv_rndf[15])\n",
    "print(\"Accuracy by Package:\", performance_metrics_cv_rndf[16])\n",
    "print(\"Brier Score Loss:\", performance_metrics_cv_rndf[17])\n",
    "print(\"ROC AUC Score:\", performance_metrics_cv_rndf[18])\n",
    "#print(f\"Time taken for cross-validation: {total_time_cv1} seconds\\n\")\n",
    "end1 = time.time()\n",
    "total_time1 = end1 - start1\n",
    "print(f\"Time taken for RNDF model to genearte the output: {total_time1} seconds\\n\")\n"
   ]
  },
  {
   "cell_type": "code",
   "execution_count": 30,
   "id": "4684de15-9534-4485-80e8-626422807a23",
   "metadata": {},
   "outputs": [],
   "source": [
    "from keras.models import Sequential\n",
    "from keras.layers import LSTM, Dense,Input"
   ]
  },
  {
   "cell_type": "code",
   "execution_count": 31,
   "id": "d9a85c4a-028a-4e7c-ab30-2f588fb0f089",
   "metadata": {},
   "outputs": [
    {
     "name": "stdout",
     "output_type": "stream",
     "text": [
      "Shape of input data array (X_train): (39073, 105)\n"
     ]
    }
   ],
   "source": [
    "print(\"Shape of input data array (X_train):\", X_train.shape)"
   ]
  },
  {
   "cell_type": "code",
   "execution_count": 32,
   "id": "a7884e17-f52b-4e89-ab12-fb0497eba584",
   "metadata": {},
   "outputs": [
    {
     "name": "stdout",
     "output_type": "stream",
     "text": [
      "Number of samples: 39073\n",
      "Number of time steps: 105\n",
      "Input dimension: 105\n"
     ]
    }
   ],
   "source": [
    "num_samples = X_train.shape[0]\n",
    "input_dim = X_train.shape[1]\n",
    "time_steps = input_dim\n",
    "print(\"Number of samples:\", num_samples)\n",
    "print(\"Number of time steps:\", time_steps)\n",
    "print(\"Input dimension:\", input_dim)\n",
    "\n"
   ]
  },
  {
   "cell_type": "code",
   "execution_count": 33,
   "id": "099fc4ca-943d-4330-bc24-115c16ba6a57",
   "metadata": {},
   "outputs": [],
   "source": [
    "start2 = time.time()\n",
    "num_folds = 10\n",
    "kf = KFold(n_splits=num_folds, shuffle=True)\n",
    "\n",
    "# Initialize variables to store the best accuracy and threshold\n",
    "best_accuracy = 0\n",
    "best_threshold = 0"
   ]
  },
  {
   "cell_type": "raw",
   "id": "5a84ef8a-fd55-4c4b-ba70-8bc3fd18e227",
   "metadata": {},
   "source": [
    "# Iterate over each fold for cross-validation\n",
    "for train_index, test_index in kf.split(X_train):\n",
    "    X_train_fold, X_val_fold = X_train.iloc[train_index], X_train.iloc[test_index]\n",
    "    Y_train_fold, Y_val_fold = Y_train.iloc[train_index], Y_train.iloc[test_index]\n",
    "    # Define and compile the LSTM model\n",
    "    model = Sequential()\n",
    "    model.add(LSTM(units=50, input_shape=(105, 1), return_sequences=True))\n",
    "    model.add(LSTM(units=50))\n",
    "    model.add(Dense(units=1))\n",
    "    model.compile(optimizer='adam', loss='mean_squared_error')\n",
    "# Reshape the training data\n",
    "    X_train_fold_dense = X_train_fold.values\n",
    "    X_train_fold_re = X_train_fold_dense.reshape(X_train_fold_dense.shape[0], 105, 1)\n",
    "\n",
    "    # Fit the model to the training data\n",
    "    model.fit(X_train_fold_re, Y_train_fold, epochs=5, batch_size=32, verbose=1)\n",
    "\n",
    "    # Reshape the validation data\n",
    "    X_val_fold_dense = X_val_fold.values\n",
    "    X_val_fold_re = X_val_fold_dense.reshape(X_val_fold_dense.shape[0], 105, 1)\n",
    "\n",
    "    # Make predictions on the validation data\n",
    "    predictions = model.predict(X_val_fold_re)\n",
    "\n",
    "    # Find the best threshold value for this fold\n",
    "    for threshold in np.arange(0.1, 1.0, 0.1):\n",
    "        binary_predictions = [0 if value < threshold else 1 for value in predictions]\n",
    "        accuracy = accuracy_score(Y_val_fold, binary_predictions)\n",
    "        if accuracy > best_accuracy:\n",
    "            best_accuracy = accuracy\n",
    "            best_threshold = threshold\n",
    "# Print the best threshold and corresponding accuracy\n",
    "print(f\"Best Threshold Value: {best_threshold}\")\n",
    "print(f\"Best Accuracy: {best_accuracy}\")"
   ]
  },
  {
   "cell_type": "code",
   "execution_count": 36,
   "id": "d8dff387-a3cc-414f-8ec9-88eab352ae7e",
   "metadata": {},
   "outputs": [
    {
     "name": "stdout",
     "output_type": "stream",
     "text": [
      "Time taken for LSTM model to genearte the output: 3974.450767993927 seconds\n",
      "\n"
     ]
    }
   ],
   "source": [
    "end2 = time.time()\n",
    "total_time2 = end2 - start2\n",
    "print(f\"Time taken for LSTM model to genearte the output: {total_time2} seconds\\n\")\n",
    "\n"
   ]
  },
  {
   "cell_type": "code",
   "execution_count": 37,
   "id": "ecba7dd2-5681-432a-830d-f1fa78422580",
   "metadata": {},
   "outputs": [
    {
     "name": "stdout",
     "output_type": "stream",
     "text": [
      "\u001b[1m306/306\u001b[0m \u001b[32m━━━━━━━━━━━━━━━━━━━━\u001b[0m\u001b[37m\u001b[0m \u001b[1m6s\u001b[0m 21ms/step\n"
     ]
    }
   ],
   "source": [
    "X_test_re = X_test.values.reshape(X_test.shape[0], 105, 1)\n",
    "predictions_test = model.predict(X_test_re)\n",
    "binary_predictions_test = [0 if value <= best_threshold else 1 for value in predictions_test]\n",
    "\n",
    "# Calculate performance metrics for the test set\n",
    "performance_metrics_cv_LSTM = calculate_performance_metrics(Y_test, binary_predictions_test)\n"
   ]
  },
  {
   "cell_type": "code",
   "execution_count": 38,
   "id": "c6991f24-58ca-4e7e-93fa-b0dba3794a35",
   "metadata": {},
   "outputs": [
    {
     "name": "stdout",
     "output_type": "stream",
     "text": [
      "Performance Metrics for 10-fold Cross-Validation with LSTM Classifier:\n",
      "True Positives (TP): 5\n",
      "True Negatives (TN): 7387\n",
      "False Positives (FP): 27\n",
      "False Negatives (FN): 2350\n",
      "True Positive Rate (TPR): 0.0021231422505307855\n",
      "True Negative Rate (TNR): 0.9963582411653629\n",
      "False Positive Rate (FPR): 0.003641758834637173\n",
      "False Negative Rate (FNR): 0.9978768577494692\n",
      "Recall/Sensitivity (r): 0.0021231422505307855\n",
      "Precision (pr): 0.15625\n",
      "F1 Score: 0.0041893590280687055\n",
      "Accuracy: 0.7566792916368104\n",
      "Error Rate: 0.24332070836318967\n",
      "Balanced Accuracy: 0.4992406917079468\n",
      "True Skill Statistics (TSS): -0.0015186165841063874\n",
      "Heidke Skill Score (HSS): -0.0022889445703778806\n",
      "Accuracy by Package: 0.7566792916368104\n",
      "Brier Score Loss: 0.24332070836318967\n",
      "ROC AUC Score: 0.4992406917079468\n"
     ]
    }
   ],
   "source": [
    "# Print the performance metrics for cross-validation\n",
    "print(\"Performance Metrics for 10-fold Cross-Validation with LSTM Classifier:\")\n",
    "print(\"True Positives (TP):\", performance_metrics_cv_LSTM[0])\n",
    "print(\"True Negatives (TN):\", performance_metrics_cv_LSTM[1])\n",
    "print(\"False Positives (FP):\", performance_metrics_cv_LSTM[2])\n",
    "print(\"False Negatives (FN):\", performance_metrics_cv_LSTM[3])\n",
    "print(\"True Positive Rate (TPR):\", performance_metrics_cv_LSTM[4])\n",
    "print(\"True Negative Rate (TNR):\", performance_metrics_cv_LSTM[5])\n",
    "print(\"False Positive Rate (FPR):\", performance_metrics_cv_LSTM[6])\n",
    "print(\"False Negative Rate (FNR):\", performance_metrics_cv_LSTM[7])\n",
    "print(\"Recall/Sensitivity (r):\", performance_metrics_cv_LSTM[8])\n",
    "print(\"Precision (pr):\", performance_metrics_cv_LSTM[9])\n",
    "print(\"F1 Score:\", performance_metrics_cv_LSTM[10])\n",
    "print(\"Accuracy:\", performance_metrics_cv_LSTM[11])\n",
    "print(\"Error Rate:\", performance_metrics_cv_LSTM[12])\n",
    "print(\"Balanced Accuracy:\", performance_metrics_cv_LSTM[13])\n",
    "print(\"True Skill Statistics (TSS):\", performance_metrics_cv_LSTM[14])\n",
    "print(\"Heidke Skill Score (HSS):\", performance_metrics_cv_LSTM[15])\n",
    "print(\"Accuracy by Package:\", performance_metrics_cv_LSTM[16])\n",
    "print(\"Brier Score Loss:\", performance_metrics_cv_LSTM[17])\n",
    "print(\"ROC AUC Score:\", performance_metrics_cv_LSTM[18])"
   ]
  }
 ],
 "metadata": {
  "kernelspec": {
   "display_name": "Python 3 (ipykernel)",
   "language": "python",
   "name": "python3"
  },
  "language_info": {
   "codemirror_mode": {
    "name": "ipython",
    "version": 3
   },
   "file_extension": ".py",
   "mimetype": "text/x-python",
   "name": "python",
   "nbconvert_exporter": "python",
   "pygments_lexer": "ipython3",
   "version": "3.12.7"
  }
 },
 "nbformat": 4,
 "nbformat_minor": 5
}
